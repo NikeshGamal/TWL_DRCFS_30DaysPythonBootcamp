{
 "cells": [
  {
   "cell_type": "markdown",
   "metadata": {},
   "source": [
    "List and tuples"
   ]
  },
  {
   "cell_type": "code",
   "execution_count": 12,
   "metadata": {},
   "outputs": [
    {
     "name": "stdout",
     "output_type": "stream",
     "text": [
      "ashim\n",
      "aruj\n",
      "ashim\n",
      "samrid\n",
      "utsav\n",
      "hari\n"
     ]
    }
   ],
   "source": [
    "#list of mentor_name\n",
    "#list are mutable in nature--> tuples are not mutable\n",
    "mentor_name=[\"aruj\",\"ashim\",\"samrid\",\"utsav\",\"hari\"]\n",
    "\n",
    "#accessing list's values:\n",
    "print(mentor_name[1])\n",
    "\n",
    "for name in mentor_name:\n",
    "    print(name)"
   ]
  },
  {
   "cell_type": "code",
   "execution_count": 4,
   "metadata": {},
   "outputs": [
    {
     "data": {
      "text/plain": [
       "['nikesh', 'mini', 1, 2]"
      ]
     },
     "execution_count": 4,
     "metadata": {},
     "output_type": "execute_result"
    }
   ],
   "source": [
    "#list-->works like an vector i.e. can be modified in between\n",
    "data_details = [\"nikesh\",'mini',1,2]\n",
    "data_details"
   ]
  },
  {
   "cell_type": "code",
   "execution_count": 10,
   "metadata": {},
   "outputs": [
    {
     "name": "stdout",
     "output_type": "stream",
     "text": [
      "aruj is placed in index 0\n",
      "ashim is placed in index 1\n",
      "samrid is placed in index 2\n",
      "utsav is placed in index 3\n",
      "hari is placed in index 4\n"
     ]
    }
   ],
   "source": [
    "for index,ele in enumerate(mentor_name):\n",
    "    print(f\"{ele} is placed in index {index}\")"
   ]
  },
  {
   "cell_type": "code",
   "execution_count": 22,
   "metadata": {},
   "outputs": [
    {
     "data": {
      "text/plain": [
       "['nikesh', 'mini', 'Gamal', 'Shah']"
      ]
     },
     "execution_count": 22,
     "metadata": {},
     "output_type": "execute_result"
    }
   ],
   "source": [
    "#append --> last ma add hunxa\n",
    "#data_details.pop()\n",
    "data_details\n",
    "\n",
    "#mutable \n",
    "#existing lai change bhayo bhane chai that is mutable--> internal mutability\n",
    "data_details[2]=\"Gamal\"\n",
    "data_details\n",
    "data_details[3]=\"Shah\"\n",
    "data_details\n"
   ]
  },
  {
   "cell_type": "markdown",
   "metadata": {},
   "source": [
    "Method\tDescription\n",
    "\n",
    "append()\tAdds an element at the end of the list\n",
    "\n",
    "clear()\tRemoves all the elements from the list\n",
    "\n",
    "copy()\tReturns a copy of the list\n",
    "\n",
    "count()\tReturns the number of elements with the specified value\n",
    "\n",
    "extend()\tAdd the elements of a list (or any iterable), to the end of the current list\n",
    "\n",
    "index()\tReturns the index of the first element with the specified value\n",
    "\n",
    "insert()\tAdds an element at the specified position\n",
    "\n",
    "pop()\tRemoves the element at the specified position\n",
    "\n",
    "remove()\tRemoves the first"
   ]
  },
  {
   "cell_type": "code",
   "execution_count": 39,
   "metadata": {},
   "outputs": [
    {
     "name": "stdout",
     "output_type": "stream",
     "text": [
      "before insertion ['nikesh', 'mini', 'KTM']\n",
      "after insertion ['nikesh', 'Gamal', 'Nikesh', 'Pokhara', 'mini', 'KTM']\n"
     ]
    }
   ],
   "source": [
    "#insert the element of index 1 \n",
    "print(f\"before insertion {data_details}\")\n",
    "data_details.insert(1,\"Gamal\")\n",
    "data_details.insert(2,\"Nikesh\")\n",
    "data_details.insert(3,\"Pokhara\")\n",
    "print(f\"after insertion {data_details}\")\n"
   ]
  },
  {
   "cell_type": "code",
   "execution_count": 46,
   "metadata": {},
   "outputs": [
    {
     "name": "stdout",
     "output_type": "stream",
     "text": [
      "Before replacement ['nikesh', 'Gamal', 'Shah', 'Rautahat', 'mini', 'KTM']\n",
      "After replacement ['nikesh', 'Gamal', 'Shah', 'Rautahat', 'mini', 'KTM']\n"
     ]
    },
    {
     "data": {
      "text/plain": [
       "6"
      ]
     },
     "execution_count": 46,
     "metadata": {},
     "output_type": "execute_result"
    }
   ],
   "source": [
    "#replace the value\n",
    "print(f\"Before replacement {data_details}\")\n",
    "data_details[3]=\"Rautahat\"\n",
    "print(f\"After replacement {data_details}\")\n",
    "len(data_details)"
   ]
  },
  {
   "cell_type": "code",
   "execution_count": 47,
   "metadata": {},
   "outputs": [
    {
     "name": "stdout",
     "output_type": "stream",
     "text": [
      "Before pop ['nikesh', 'Gamal', 'Shah', 'Rautahat', 'mini', 'KTM']\n",
      "After pop ['nikesh', 'Gamal', 'Shah', 'Rautahat', 'mini', 'KTM']\n"
     ]
    },
    {
     "data": {
      "text/plain": [
       "5"
      ]
     },
     "execution_count": 47,
     "metadata": {},
     "output_type": "execute_result"
    }
   ],
   "source": [
    "print(f\"Before pop {data_details}\")\n",
    "len(data_details)\n",
    "print(f\"After pop {data_details}\")\n",
    "data_details.pop()\n",
    "len(data_details)\n"
   ]
  },
  {
   "cell_type": "markdown",
   "metadata": {},
   "source": [
    "TUPLE:\n",
    "\n",
    "*initialize:\n",
    "\n",
    "tuple_variable = (data1,data2)\n",
    "\n",
    "--> IMMUTABLE, so stored in heap\n",
    "\n",
    "--> Takes less space"
   ]
  },
  {
   "cell_type": "code",
   "execution_count": 1,
   "metadata": {},
   "outputs": [
    {
     "name": "stdout",
     "output_type": "stream",
     "text": [
      "violet\n",
      "Indigo\n",
      "Blue\n",
      "Green\n",
      "Yellow\n",
      "Orange\n",
      "Red\n",
      "Total rainbow colors : 7\n"
     ]
    }
   ],
   "source": [
    "#tuple\n",
    "rainbow_colors=(\"violet\",\"Indigo\",\"Blue\",\"Green\",\"Yellow\",\"Orange\",\"Red\")\n",
    "\n",
    "for color in rainbow_colors:\n",
    "    print(color)\n",
    "\n",
    "#to take the index of the value\n",
    "print(f\"Total rainbow colors : {len(rainbow_colors)}\")\n",
    "\n",
    "# rainbow_colors[0]=\"pink\"\n",
    "#it will throw error as it cannot be mutated"
   ]
  },
  {
   "cell_type": "markdown",
   "metadata": {},
   "source": [
    "## Dictionary\n",
    "key-value \n",
    "### Example:\n",
    "login System\n"
   ]
  },
  {
   "cell_type": "code",
   "execution_count": 2,
   "metadata": {},
   "outputs": [],
   "source": [
    "#username-> password dictionary\n",
    "#dictionary --> is mutable\n",
    "\n",
    "user_pass = {\n",
    "    \"duck\":\"chuck\",\n",
    "    \"nikesh\":\"gamal\",\n",
    "     \"mini\":\"shah\",\n",
    "     \"status\":True,\n",
    "     \"province_no\":4\n",
    "}"
   ]
  },
  {
   "cell_type": "code",
   "execution_count": 3,
   "metadata": {},
   "outputs": [
    {
     "name": "stdout",
     "output_type": "stream",
     "text": [
      "('duck', 'chuck')\n",
      "('nikesh', 'gamal')\n",
      "('mini', 'shah')\n",
      "('status', True)\n",
      "('province_no', 4)\n"
     ]
    }
   ],
   "source": [
    "\n",
    "for ele in user_pass.items():\n",
    "    print(ele)"
   ]
  },
  {
   "cell_type": "markdown",
   "metadata": {},
   "source": [
    "#### Loop in dictinoary"
   ]
  },
  {
   "cell_type": "code",
   "execution_count": 14,
   "metadata": {},
   "outputs": [
    {
     "name": "stdout",
     "output_type": "stream",
     "text": [
      "duck\n",
      "nikesh\n",
      "mini\n",
      "status\n",
      "province_no\n",
      "\n",
      "chuck\n",
      "gamal\n",
      "shah\n",
      "True\n",
      "4\n"
     ]
    }
   ],
   "source": [
    "for key in user_pass.keys():\n",
    "    print(key)\n",
    "\n",
    "print()\n",
    "for value in user_pass.values():\n",
    "    print(value)"
   ]
  },
  {
   "cell_type": "markdown",
   "metadata": {},
   "source": [
    "### Ways to Access the dictinary element"
   ]
  },
  {
   "cell_type": "code",
   "execution_count": 21,
   "metadata": {},
   "outputs": [
    {
     "name": "stdout",
     "output_type": "stream",
     "text": [
      "chuck\n",
      "4\n"
     ]
    }
   ],
   "source": [
    "#to access dictionary (None way)\n",
    "print(user_pass.get(\"duck\"))\n",
    "cond = user_pass.get(\"poc\")\n",
    "#accessing the value from dictionary\n",
    "print(user_pass[\"province_no\"])\n",
    "#error will pop out keyError\n",
    "\n",
    "#better to use .get method to search for the value of the key"
   ]
  },
  {
   "cell_type": "code",
   "execution_count": 22,
   "metadata": {},
   "outputs": [
    {
     "name": "stdout",
     "output_type": "stream",
     "text": [
      "Sorry! the key is not defined\n"
     ]
    }
   ],
   "source": [
    "if cond is None:\n",
    "    print(\"Sorry! the key is not defined\")"
   ]
  },
  {
   "cell_type": "markdown",
   "metadata": {},
   "source": [
    "#### Replacing the dictionary element\n",
    "##### dictionary is fast "
   ]
  },
  {
   "cell_type": "code",
   "execution_count": 24,
   "metadata": {},
   "outputs": [
    {
     "data": {
      "text/plain": [
       "{'duck': 'chuck',\n",
       " 'nikesh': 'gamal',\n",
       " 'mini': 'shah',\n",
       " 'status': True,\n",
       " 'province_no': '2'}"
      ]
     },
     "execution_count": 24,
     "metadata": {},
     "output_type": "execute_result"
    }
   ],
   "source": [
    "#replacing the value using key\n",
    "user_pass[\"province_no\"]=\"2\"\n",
    "user_pass"
   ]
  },
  {
   "cell_type": "markdown",
   "metadata": {},
   "source": [
    "### Using enumerate in loop\n",
    "\n",
    "##### --> automatically incrvease the counter value "
   ]
  },
  {
   "cell_type": "code",
   "execution_count": 28,
   "metadata": {},
   "outputs": [
    {
     "name": "stdout",
     "output_type": "stream",
     "text": [
      "0 duck\n",
      "1 nikesh\n",
      "2 mini\n",
      "3 status\n",
      "4 province_no\n"
     ]
    }
   ],
   "source": [
    "for ind,ele in enumerate(user_pass):\n",
    "    print(ind,ele)"
   ]
  },
  {
   "cell_type": "markdown",
   "metadata": {},
   "source": [
    "##### .items() in loop"
   ]
  },
  {
   "cell_type": "code",
   "execution_count": 33,
   "metadata": {},
   "outputs": [
    {
     "name": "stdout",
     "output_type": "stream",
     "text": [
      "duck chuck\n",
      "nikesh gamal\n",
      "mini shah\n",
      "status True\n",
      "province_no 2\n"
     ]
    }
   ],
   "source": [
    "#unpacking of dictinoary as in each iteration user_pass.items() will return tuple\n",
    "\n",
    "#simply .items le key->value pair lai tuple ko form ma return garxa \n",
    "for ind,ele in user_pass.items():\n",
    "    print(ind,ele)"
   ]
  },
  {
   "cell_type": "markdown",
   "metadata": {},
   "source": [
    "#### Login System\n",
    "1.Take input from user, about username and password\n",
    "\n",
    "2.try to get their password from the dictionary\n",
    "\n",
    "3.if password is none, user doesn't exist\n",
    "\n",
    "4.if the password matches with the password given by the user, say you're logged in else say you input incorrect password"
   ]
  },
  {
   "cell_type": "code",
   "execution_count": 43,
   "metadata": {},
   "outputs": [],
   "source": [
    "#username-> password dictionary\n",
    "#dictionary --> is mutable\n",
    "\n",
    "user_pass = {\n",
    "    \"duck\":\"chuck\",\n",
    "    \"nikesh\":\"gamal\",\n",
    "     \"mini\":\"shah\",\n",
    "     \"status\":True,\n",
    "     \"province_no\":4\n",
    "}"
   ]
  },
  {
   "cell_type": "code",
   "execution_count": 50,
   "metadata": {},
   "outputs": [
    {
     "name": "stdout",
     "output_type": "stream",
     "text": [
      "Dictionary:\n",
      "{'duck': 'chuck', 'nikesh': 'gamal', 'mini': 'shah', 'status': True, 'province_no': 4}\n",
      " type of real_password:<class 'NoneType'>\n",
      "Sorry! User doesn't exist\n"
     ]
    }
   ],
   "source": [
    "print(\"Dictionary:\")\n",
    "print(user_pass)\n",
    "#login system \n",
    "\n",
    "#key is case sensitive\n",
    "username= input(\"Enter your username: \")\n",
    "input_password=input(\"Enter your password: \") # input user le dinxa\n",
    "\n",
    "real_password = user_pass.get(username) \n",
    "#username-> mini\n",
    "#real_password=user_pass[username]\n",
    "\n",
    "\n",
    " #automatically generate hunxa from user_pass\n",
    "print(f\" type of real_password:{type(real_password)}\")\n",
    "\n",
    "if real_password is None:           #is --> is le chai datatype herxa \n",
    "    print(\"Sorry! User doesn't exist\")\n",
    "elif real_password == input_password:  #mini==shah tara shah==shah\n",
    "    print(\"Welcome! You are successfully logged in\")\n",
    "else:\n",
    "    print(\"Incorrect password\")"
   ]
  },
  {
   "cell_type": "code",
   "execution_count": 43,
   "metadata": {},
   "outputs": [
    {
     "data": {
      "text/plain": [
       "{'duck': 'chuck',\n",
       " 'nikesh': 'gamal',\n",
       " 'mini': 'mini26',\n",
       " 'status': True,\n",
       " 'province_no': '2'}"
      ]
     },
     "execution_count": 43,
     "metadata": {},
     "output_type": "execute_result"
    }
   ],
   "source": [
    "user_pass[\"mini\"]=\"mini26\"\n",
    "user_pass"
   ]
  },
  {
   "cell_type": "code",
   "execution_count": 20,
   "metadata": {},
   "outputs": [
    {
     "name": "stdout",
     "output_type": "stream",
     "text": [
      "Before append ['pink', 'shah', 21]\n",
      "After append ['pink', 'shah', 21, 'mini26']\n"
     ]
    }
   ],
   "source": [
    "#dictioanry to tuple, tuple to list\n",
    "mini=[\"pink\",\"shah\",21]\n",
    "print(f\"Before append {mini}\")\n",
    "\n",
    "mini.append(\"mini26\")\n",
    "print(f\"After append {mini}\")"
   ]
  },
  {
   "cell_type": "code",
   "execution_count": 17,
   "metadata": {},
   "outputs": [
    {
     "name": "stdout",
     "output_type": "stream",
     "text": [
      "Before pop ['pink', 'shah', 21, 'mini26']\n",
      "Pop mini_pop-->mini26\n",
      "Ater append ['pink', 'shah', 21]\n",
      "\n",
      "Pop mini_pop0-->pink\n"
     ]
    },
    {
     "data": {
      "text/plain": [
       "['shah', 21]"
      ]
     },
     "execution_count": 17,
     "metadata": {},
     "output_type": "execute_result"
    }
   ],
   "source": [
    "print(f\"Before pop {mini}\")\n",
    "mini_pop=mini.pop()#mini26\n",
    "print(f\"Pop mini_pop-->{mini_pop}\")\n",
    "print(f\"Ater append {mini}\")\n",
    "\n",
    "print()\n",
    "mini_pop0=mini.pop(0)#pink\n",
    "print(f\"Pop mini_pop0-->{mini_pop0}\")\n",
    "mini"
   ]
  },
  {
   "cell_type": "code",
   "execution_count": 29,
   "metadata": {},
   "outputs": [
    {
     "data": {
      "text/plain": [
       "22"
      ]
     },
     "execution_count": 29,
     "metadata": {},
     "output_type": "execute_result"
    }
   ],
   "source": [
    "#insert--> index\n",
    "mini\n",
    "mini.pop(3)"
   ]
  },
  {
   "cell_type": "code",
   "execution_count": 38,
   "metadata": {},
   "outputs": [
    {
     "name": "stdout",
     "output_type": "stream",
     "text": [
      "[22, 'shah', 21, 22, 'mini26']\n",
      "4\n",
      "2\n"
     ]
    }
   ],
   "source": [
    "mini[0]=22  #replave the value in index 0\n",
    "print(mini)\n",
    "\n",
    "print(mini.index(\"mini26\"))\n",
    "print(mini.count(22))"
   ]
  }
 ],
 "metadata": {
  "kernelspec": {
   "display_name": "Python 3.9.13 ('base')",
   "language": "python",
   "name": "python3"
  },
  "language_info": {
   "codemirror_mode": {
    "name": "ipython",
    "version": 3
   },
   "file_extension": ".py",
   "mimetype": "text/x-python",
   "name": "python",
   "nbconvert_exporter": "python",
   "pygments_lexer": "ipython3",
   "version": "3.9.13 (main, Aug 25 2022, 23:26:10) \n[GCC 11.2.0]"
  },
  "orig_nbformat": 4,
  "vscode": {
   "interpreter": {
    "hash": "c58f02ef2a5e0a8a2eec0fd89f2ea098fdf80302cb6caf99da0cf9fbe70dce7c"
   }
  }
 },
 "nbformat": 4,
 "nbformat_minor": 2
}
